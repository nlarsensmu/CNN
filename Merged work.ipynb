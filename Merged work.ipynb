{
 "cells": [
  {
   "cell_type": "markdown",
   "id": "advanced-princess",
   "metadata": {},
   "source": [
    "# CNN with Brain Cell Images\n",
    "\n",
    "Nicholas Larsen\n",
    "Steven Larsen\n",
    "\n",
    "This data came from real world microscopic images.  Each image is a blood smear from a patient that was then placed on a slide for imaging.  This data was collected with the intention of classifing Acute Lymphoblastic Leukemia (ALL).  This can be a difficult task in, due to the differences between healthy and cells with leukemia being extremely small.  Each image from the data set was analyzed by an expert oncologist.  \n"
   ]
  },
  {
   "cell_type": "markdown",
   "id": "italian-tribe",
   "metadata": {},
   "source": [
    "# Load images, show a few examples"
   ]
  },
  {
   "cell_type": "code",
   "execution_count": 3,
   "id": "color-wesley",
   "metadata": {},
   "outputs": [],
   "source": [
    "from PIL import Image\n",
    "from os import listdir\n",
    "import numpy as np\n",
    "from matplotlib import pyplot as plt\n",
    "from skimage.feature import daisy\n",
    "from sklearn.metrics.pairwise import pairwise_distances\n",
    "from skimage.io import imshow\n",
    "from ipywidgets import widgets  # make this interactive!\n",
    "from ipywidgets import fixed\n",
    "import copy\n",
    "from sklearn.model_selection import train_test_split\n",
    "from sklearn.neighbors import KNeighborsClassifier\n",
    "from sklearn.metrics import accuracy_score\n",
    "\n",
    "def gray_sacle(data):\n",
    "    return np.dot(data[...,:3], [0.299, 0.587, 0.114])\n",
    "\n",
    "def read_images(directories, grey_scale=False, verb = False):\n",
    "    \"\"\"Reads in the all and rem directoires under each directory in the list directories\"\"\"\n",
    "    X = []\n",
    "    y = []\n",
    "    for direct in dirs:\n",
    "        if verb:\n",
    "            print(f\"Reading {direct}\")\n",
    "        direct_all = f\"{direct}\\\\all\"\n",
    "        for file in listdir(direct_all):\n",
    "            if verb:\n",
    "                print(f\"Reading file: {file}\")\n",
    "            image = Image.open(f\"{direct_all}\\\\{file}\")\n",
    "            data = np.asarray(image)\n",
    "            if grey_scale:\n",
    "                data = gray_sacle(data)\n",
    "            #data = data.ravel()\n",
    "            X.append(data)\n",
    "            y.append(1)\n",
    "                \n",
    "        direct_rem = f\"{direct}\\\\hem\"\n",
    "        for file in listdir(direct_rem):\n",
    "            if verb:\n",
    "                print(f\"Reading file: {file}\")\n",
    "            image = Image.open(f\"{direct_rem}\\\\{file}\")\n",
    "            data = np.asarray(image)\n",
    "            if grey_scale:\n",
    "                data = gray_sacle(data)\n",
    "            #data = data.ravel()\n",
    "            X.append(data)\n",
    "            y.append(0)\n",
    "                \n",
    "    return np.asarray(X), np.asarray(y)\n",
    "\n",
    "def plot_gallery(images, titles, h, w, n_row=3, n_col=6):\n",
    "    \"\"\"Helper function to plot a gallery of portraits\"\"\"\n",
    "    plt.figure(figsize=(1.7 * n_col, 2.3 * n_row))\n",
    "    plt.subplots_adjust(bottom=0, left=.01, right=.99, top=.90, hspace=.35)\n",
    "    for i in range(n_row * n_col):\n",
    "        plt.subplot(n_row, n_col, i + 1)\n",
    "        plt.imshow(images[i].reshape((h, w)), cmap=plt.cm.gray)\n",
    "        plt.title(titles[i], size=12)\n",
    "        plt.xticks(())\n",
    "        plt.yticks(())"
   ]
  },
  {
   "cell_type": "code",
   "execution_count": 4,
   "id": "recreational-commons",
   "metadata": {},
   "outputs": [
    {
     "name": "stdout",
     "output_type": "stream",
     "text": [
      "(12, 450, 450, 3)\n",
      "Wall time: 15 ms\n"
     ]
    }
   ],
   "source": [
    "%%time\n",
    "dirs = [\n",
    "#    r'..\\archive\\C-NMC_Leukemia\\training_data\\fold_0',\n",
    "#    r'..\\archive\\C-NMC_Leukemia\\training_data\\fold_1',\n",
    "#    r'..\\archive\\C-NMC_Leukemia\\training_data\\fold_2'\n",
    "    r'..\\archive\\C-NMC_Leukemia\\training_data\\fold_small'\n",
    "]\n",
    "X, y = read_images(dirs, verb=False)\n",
    "print(X.shape)"
   ]
  },
  {
   "cell_type": "markdown",
   "id": "yellow-ancient",
   "metadata": {},
   "source": [
    "# Preparation\n",
    "## Explain Metrics\n",
    "\n",
    "## Define splitting Techniques (why is this realistic in practice)"
   ]
  },
  {
   "cell_type": "markdown",
   "id": "sorted-strain",
   "metadata": {},
   "source": [
    "____"
   ]
  },
  {
   "cell_type": "markdown",
   "id": "orange-sacramento",
   "metadata": {},
   "source": [
    "# Modeling"
   ]
  },
  {
   "cell_type": "markdown",
   "id": "specified-tuner",
   "metadata": {},
   "source": [
    "## Set up Data Expansion in Keras. \n",
    "### Options from town hall\n",
    "* Data augmentation he showed an example of. Tends to be slow\n",
    "* Go through and a couple of passes of expansion'\n",
    "* Use expansion for a couple of epic at the end\n",
    "### Reasoning\n"
   ]
  },
  {
   "cell_type": "markdown",
   "id": "expired-running",
   "metadata": {},
   "source": [
    "## Create Convolutional Neural Network using Keras. \n",
    "* Investigate different parameters on at least two different network architectures\n",
    "* Architectural Differences\n",
    " * Number of layers\n",
    " * Whether or not using residual paths\n",
    " * Seperable convolutions\n",
    " \n",
    "Need a total of 4 models"
   ]
  },
  {
   "cell_type": "code",
   "execution_count": 5,
   "id": "muslim-philip",
   "metadata": {},
   "outputs": [],
   "source": [
    "# Code here"
   ]
  },
  {
   "cell_type": "markdown",
   "id": "outdoor-summer",
   "metadata": {},
   "source": [
    "## Visualize the final Results\n",
    "* Visualize\n",
    "* Compare statistically\n",
    "* Compare the performance to a standard ML_P using the receiver operating characteristic and the area under the curve\n",
    "This includes:\n",
    "* Which one is the best\n",
    "* Which one you should choose\n",
    "* How might you deploy it\n",
    "* All of the things you might be interested in"
   ]
  },
  {
   "cell_type": "code",
   "execution_count": 6,
   "id": "choice-mystery",
   "metadata": {},
   "outputs": [],
   "source": [
    "# Code here"
   ]
  },
  {
   "cell_type": "markdown",
   "id": "determined-discharge",
   "metadata": {},
   "source": [
    "# Use transfer learning to pre-train weights of your initial layers of CNN\n",
    "* Compare to best other model\n",
    "* There is an exmaple in his notebook. Use Img Net weights, VGG. Compare from scratch from above"
   ]
  },
  {
   "cell_type": "code",
   "execution_count": null,
   "id": "public-techno",
   "metadata": {},
   "outputs": [],
   "source": [
    "# Code here"
   ]
  }
 ],
 "metadata": {
  "kernelspec": {
   "display_name": "Python 3",
   "language": "python",
   "name": "python3"
  },
  "language_info": {
   "codemirror_mode": {
    "name": "ipython",
    "version": 3
   },
   "file_extension": ".py",
   "mimetype": "text/x-python",
   "name": "python",
   "nbconvert_exporter": "python",
   "pygments_lexer": "ipython3",
   "version": "3.7.9"
  }
 },
 "nbformat": 4,
 "nbformat_minor": 5
}
